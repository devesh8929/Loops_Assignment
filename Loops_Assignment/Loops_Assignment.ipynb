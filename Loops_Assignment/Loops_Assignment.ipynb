{
  "cells": [
    {
      "cell_type": "code",
      "source": [
        "#Print number from 1 to 5 using a while loop.\n",
        "a = 1\n",
        "while(a <= 5):\n",
        "  print(a, end=' ')\n",
        "  a += 1"
      ],
      "metadata": {
        "colab": {
          "base_uri": "https://localhost:8080/"
        },
        "id": "-InlfXJE4Ry5",
        "outputId": "9acdb934-b2f2-47f4-cc8a-f988926815d7"
      },
      "execution_count": 2,
      "outputs": [
        {
          "output_type": "stream",
          "name": "stdout",
          "text": [
            "1 2 3 4 5 "
          ]
        }
      ]
    },
    {
      "cell_type": "code",
      "source": [
        "#Calclate the sum of number from 1 to 10 using a while loop.\n",
        "a = 1\n",
        "sum = 0\n",
        "while a <= 10:\n",
        "  sum += a\n",
        "  a += 1\n",
        "print(f\"the sum of number from 1 to 10 is {sum}\".capitalize())"
      ],
      "metadata": {
        "colab": {
          "base_uri": "https://localhost:8080/"
        },
        "id": "R8TQEVyi40mg",
        "outputId": "43a90af3-c86a-421b-ad76-246b1ecba3a9"
      },
      "execution_count": 4,
      "outputs": [
        {
          "output_type": "stream",
          "name": "stdout",
          "text": [
            "The sum of number from 1 to 10 is 55\n"
          ]
        }
      ]
    },
    {
      "cell_type": "code",
      "source": [
        "#Calclate the factorial of a number using a for loop.\n",
        "inp = int(input(\"Enter a number to find it's factorial \"))\n",
        "ans = 1\n",
        "for i in range(1,inp+1):\n",
        "  ans *= i\n",
        "print(f\"factorial of the number {inp} is {ans}\".capitalize())"
      ],
      "metadata": {
        "colab": {
          "base_uri": "https://localhost:8080/"
        },
        "id": "T2K0eA4k5TKX",
        "outputId": "b3971dc4-8e6b-4003-9f2d-50a548fb98c1"
      },
      "execution_count": 7,
      "outputs": [
        {
          "output_type": "stream",
          "name": "stdout",
          "text": [
            "Enter a number to find it's factorial 5\n",
            "Factorial of the number 5 is 120\n"
          ]
        }
      ]
    },
    {
      "cell_type": "code",
      "source": [
        "#Count the number of vowel in a string using a for loop.\n",
        "st = input(\"Enter a string \")\n",
        "vowel = ['a','e','i','o','u']\n",
        "count = 0\n",
        "for ch in st:\n",
        "  for v in vowel:\n",
        "    if ch == v:\n",
        "      count += 1\n",
        "\n",
        "print(f\"Number of vowels in the string are {count}\")"
      ],
      "metadata": {
        "colab": {
          "base_uri": "https://localhost:8080/"
        },
        "id": "xooGa0kU5-N_",
        "outputId": "1bac7135-ef2e-41e8-ba52-47e59ea82640"
      },
      "execution_count": 8,
      "outputs": [
        {
          "output_type": "stream",
          "name": "stdout",
          "text": [
            "Enter a string devesh\n",
            "Number of vowels in the string are 2\n"
          ]
        }
      ]
    },
    {
      "cell_type": "code",
      "source": [
        "#Print a pattern using nested loop.\n",
        "for i in range(5):\n",
        "  for j in range(i+1):\n",
        "    print(\"*\",end=' ')\n",
        "  print()"
      ],
      "metadata": {
        "colab": {
          "base_uri": "https://localhost:8080/"
        },
        "id": "Ldb7Pvvs7Lts",
        "outputId": "43afb908-fa61-41ca-c356-b24eb88150d1"
      },
      "execution_count": 9,
      "outputs": [
        {
          "output_type": "stream",
          "name": "stdout",
          "text": [
            "* \n",
            "* * \n",
            "* * * \n",
            "* * * * \n",
            "* * * * * \n"
          ]
        }
      ]
    },
    {
      "cell_type": "code",
      "source": [
        "#Generate a multiplication table using nested loop.\n",
        "mul = int(input(\"Enter a number to print it's multiplication table \"))\n",
        "for x in range(10):\n",
        "  for y in range(1):\n",
        "    print(f\"{mul} X {x+1} = {mul*(x+1)}\")"
      ],
      "metadata": {
        "colab": {
          "base_uri": "https://localhost:8080/"
        },
        "id": "Ymti_zC27jQh",
        "outputId": "532c7de9-cc1c-48d7-e115-58a9523d628f"
      },
      "execution_count": 12,
      "outputs": [
        {
          "output_type": "stream",
          "name": "stdout",
          "text": [
            "Enter a number to print it's multiplication table 6\n",
            "6 X 1 = 6\n",
            "6 X 2 = 12\n",
            "6 X 3 = 18\n",
            "6 X 4 = 24\n",
            "6 X 5 = 30\n",
            "6 X 6 = 36\n",
            "6 X 7 = 42\n",
            "6 X 8 = 48\n",
            "6 X 9 = 54\n",
            "6 X 10 = 60\n"
          ]
        }
      ]
    },
    {
      "cell_type": "code",
      "source": [],
      "metadata": {
        "id": "Bs1KMtZL8YaP"
      },
      "execution_count": null,
      "outputs": []
    }
  ],
  "metadata": {
    "colab": {
      "provenance": []
    },
    "kernelspec": {
      "display_name": "Python 3",
      "name": "python3"
    },
    "language_info": {
      "name": "python"
    }
  },
  "nbformat": 4,
  "nbformat_minor": 0
}